{
  "nbformat": 4,
  "nbformat_minor": 0,
  "metadata": {
    "kernelspec": {
      "display_name": "Python 3",
      "language": "python",
      "name": "python3"
    },
    "language_info": {
      "codemirror_mode": {
        "name": "ipython",
        "version": 3
      },
      "file_extension": ".py",
      "mimetype": "text/x-python",
      "name": "python",
      "nbconvert_exporter": "python",
      "pygments_lexer": "ipython3",
      "version": "3.6.5"
    },
    "colab": {
      "name": "J061_J069_PySpark.ipynb",
      "provenance": [],
      "toc_visible": true,
      "include_colab_link": true
    }
  },
  "cells": [
    {
      "cell_type": "markdown",
      "metadata": {
        "id": "view-in-github",
        "colab_type": "text"
      },
      "source": [
        "<a href=\"https://colab.research.google.com/github/AnirudhVm/BDT/blob/main/PySpark/J061_J069_PySpark.ipynb\" target=\"_parent\"><img src=\"https://colab.research.google.com/assets/colab-badge.svg\" alt=\"Open In Colab\"/></a>"
      ]
    },
    {
      "cell_type": "markdown",
      "metadata": {
        "id": "r6hqIj-w-iiD"
      },
      "source": [
        "##Anirudh VM J061\n",
        "##Shubh Lilani J069"
      ]
    },
    {
      "cell_type": "code",
      "metadata": {
        "id": "GYc5Ale8uthc",
        "colab": {
          "base_uri": "https://localhost:8080/"
        },
        "outputId": "4cc80c6c-3632-4898-af57-485fe71c8f39"
      },
      "source": [
        " !pip install pyspark \n",
        " !pip install findspark"
      ],
      "execution_count": null,
      "outputs": [
        {
          "output_type": "stream",
          "text": [
            "Collecting pyspark\n",
            "\u001b[?25l  Downloading https://files.pythonhosted.org/packages/45/b0/9d6860891ab14a39d4bddf80ba26ce51c2f9dc4805e5c6978ac0472c120a/pyspark-3.1.1.tar.gz (212.3MB)\n",
            "\u001b[K     |████████████████████████████████| 212.3MB 70kB/s \n",
            "\u001b[?25hCollecting py4j==0.10.9\n",
            "\u001b[?25l  Downloading https://files.pythonhosted.org/packages/9e/b6/6a4fb90cd235dc8e265a6a2067f2a2c99f0d91787f06aca4bcf7c23f3f80/py4j-0.10.9-py2.py3-none-any.whl (198kB)\n",
            "\u001b[K     |████████████████████████████████| 204kB 37.4MB/s \n",
            "\u001b[?25hBuilding wheels for collected packages: pyspark\n",
            "  Building wheel for pyspark (setup.py) ... \u001b[?25l\u001b[?25hdone\n",
            "  Created wheel for pyspark: filename=pyspark-3.1.1-py2.py3-none-any.whl size=212767604 sha256=220a11b4b1579f776fa80dc9d638c8ffce00ef60844facf7c9210164d3eb82ad\n",
            "  Stored in directory: /root/.cache/pip/wheels/0b/90/c0/01de724414ef122bd05f056541fb6a0ecf47c7ca655f8b3c0f\n",
            "Successfully built pyspark\n",
            "Installing collected packages: py4j, pyspark\n",
            "Successfully installed py4j-0.10.9 pyspark-3.1.1\n",
            "Collecting findspark\n",
            "  Downloading https://files.pythonhosted.org/packages/fc/2d/2e39f9a023479ea798eed4351cd66f163ce61e00c717e03c37109f00c0f2/findspark-1.4.2-py2.py3-none-any.whl\n",
            "Installing collected packages: findspark\n",
            "Successfully installed findspark-1.4.2\n"
          ],
          "name": "stdout"
        }
      ]
    },
    {
      "cell_type": "code",
      "metadata": {
        "id": "0QdAx3F_muIG"
      },
      "source": [
        "import findspark\n",
        "#findspark.init()"
      ],
      "execution_count": null,
      "outputs": []
    },
    {
      "cell_type": "code",
      "metadata": {
        "id": "Yo1YJZGAmuIM",
        "colab": {
          "base_uri": "https://localhost:8080/"
        },
        "outputId": "1f73dde9-f926-4af2-9bfa-bc0420a36618"
      },
      "source": [
        "import pyspark\n",
        "from pyspark.sql import SparkSession\n",
        "\n",
        "spark = SparkSession.builder.getOrCreate()\n",
        "df = spark.sql(\"select 'spark' as hello\")\n",
        "df.show()\n",
        "spark.stop()"
      ],
      "execution_count": null,
      "outputs": [
        {
          "output_type": "stream",
          "text": [
            "+-----+\n",
            "|hello|\n",
            "+-----+\n",
            "|spark|\n",
            "+-----+\n",
            "\n"
          ],
          "name": "stdout"
        }
      ]
    },
    {
      "cell_type": "code",
      "metadata": {
        "id": "wjpROz-SmuIN"
      },
      "source": [
        "# pyspark.SparkContext (\n",
        "#    master = None,\n",
        "#    appName = None, \n",
        "#    sparkHome = None, \n",
        "#    pyFiles = None, \n",
        "#    environment = None, \n",
        "#    batchSize = 0, \n",
        "#    serializer = PickleSerializer(), \n",
        "#    conf = None, \n",
        "#    gateway = None, \n",
        "#    jsc = None, \n",
        "#   #  profiler_cls = <class 'pyspark.profiler.BasicProfiler'>\n",
        "#   profiler_cls = 'pyspark.profiler.BasicProfiler'\n",
        "# )"
      ],
      "execution_count": null,
      "outputs": []
    },
    {
      "cell_type": "code",
      "metadata": {
        "id": "J3HjUXoPmuIO"
      },
      "source": [
        "from pyspark import SparkContext\n",
        "sc = SparkContext('local', 'test_1')"
      ],
      "execution_count": null,
      "outputs": []
    },
    {
      "cell_type": "code",
      "metadata": {
        "id": "oCV4qmVjmuIO",
        "colab": {
          "base_uri": "https://localhost:8080/",
          "height": 195
        },
        "outputId": "5522736c-63f7-485b-f169-128001f375ae"
      },
      "source": [
        "sc"
      ],
      "execution_count": null,
      "outputs": [
        {
          "output_type": "execute_result",
          "data": {
            "text/html": [
              "\n",
              "        <div>\n",
              "            <p><b>SparkContext</b></p>\n",
              "\n",
              "            <p><a href=\"http://357b4a60f1fd:4040\">Spark UI</a></p>\n",
              "\n",
              "            <dl>\n",
              "              <dt>Version</dt>\n",
              "                <dd><code>v3.1.1</code></dd>\n",
              "              <dt>Master</dt>\n",
              "                <dd><code>local</code></dd>\n",
              "              <dt>AppName</dt>\n",
              "                <dd><code>test_1</code></dd>\n",
              "            </dl>\n",
              "        </div>\n",
              "        "
            ],
            "text/plain": [
              "<SparkContext master=local appName=test_1>"
            ]
          },
          "metadata": {
            "tags": []
          },
          "execution_count": 7
        }
      ]
    },
    {
      "cell_type": "code",
      "metadata": {
        "id": "eiX79dermuIO",
        "colab": {
          "base_uri": "https://localhost:8080/"
        },
        "outputId": "4169f2f0-3638-40e5-caee-903bd6167823"
      },
      "source": [
        "x= ['Python', 'is', 'really', 'conveniant']\n",
        "print(sorted(x))"
      ],
      "execution_count": null,
      "outputs": [
        {
          "output_type": "stream",
          "text": [
            "['Python', 'conveniant', 'is', 'really']\n"
          ],
          "name": "stdout"
        }
      ]
    },
    {
      "cell_type": "code",
      "metadata": {
        "id": "t6puoXq1muIP",
        "colab": {
          "base_uri": "https://localhost:8080/"
        },
        "outputId": "8a2627c0-7d61-4b19-85c9-f6d367d98cdb"
      },
      "source": [
        "sorted(x, key = lambda arg : arg.lower())"
      ],
      "execution_count": null,
      "outputs": [
        {
          "output_type": "execute_result",
          "data": {
            "text/plain": [
              "['conveniant', 'is', 'Python', 'really']"
            ]
          },
          "metadata": {
            "tags": []
          },
          "execution_count": 9
        }
      ]
    },
    {
      "cell_type": "markdown",
      "metadata": {
        "id": "gozUaqe9muIP"
      },
      "source": [
        "## filter()"
      ]
    },
    {
      "cell_type": "code",
      "metadata": {
        "id": "q3pP7GdUmuIP",
        "colab": {
          "base_uri": "https://localhost:8080/"
        },
        "outputId": "0fcef121-3cf5-4670-a8cd-f2ad6d23e8e0"
      },
      "source": [
        "list(filter(lambda arg: len(arg) < 5, x))"
      ],
      "execution_count": null,
      "outputs": [
        {
          "output_type": "execute_result",
          "data": {
            "text/plain": [
              "['is']"
            ]
          },
          "metadata": {
            "tags": []
          },
          "execution_count": 10
        }
      ]
    },
    {
      "cell_type": "code",
      "metadata": {
        "id": "5jgk8UW-muIP",
        "colab": {
          "base_uri": "https://localhost:8080/"
        },
        "outputId": "f0aa1a99-bdf6-4c1d-9cd1-613c771f9dea"
      },
      "source": [
        "def check_length(x):\n",
        "    return len(x)<5\n",
        "\n",
        "l1=[]\n",
        "\n",
        "for i in x:\n",
        "    if check_length(i):\n",
        "        l1.append(i)\n",
        "        \n",
        "print(l1)"
      ],
      "execution_count": null,
      "outputs": [
        {
          "output_type": "stream",
          "text": [
            "['is']\n"
          ],
          "name": "stdout"
        }
      ]
    },
    {
      "cell_type": "markdown",
      "metadata": {
        "id": "67sIq02pmuIQ"
      },
      "source": [
        "## map()"
      ]
    },
    {
      "cell_type": "code",
      "metadata": {
        "id": "cbKoYUcfmuIQ",
        "colab": {
          "base_uri": "https://localhost:8080/"
        },
        "outputId": "0b4bf8fb-d9df-40f4-cde3-9f0a93893645"
      },
      "source": [
        "print(list(map(lambda arg : check_length(arg), x)))"
      ],
      "execution_count": null,
      "outputs": [
        {
          "output_type": "stream",
          "text": [
            "[False, True, False, False]\n"
          ],
          "name": "stdout"
        }
      ]
    },
    {
      "cell_type": "code",
      "metadata": {
        "id": "G3zcAO9HmuIQ",
        "colab": {
          "base_uri": "https://localhost:8080/"
        },
        "outputId": "af491e08-1a5d-4298-b4f0-0c081fb96cd9"
      },
      "source": [
        "def check_length(x):\n",
        "    return len(x)<5\n",
        "\n",
        "l1=[]\n",
        "\n",
        "for i in x:\n",
        "    l1.append(check_length(i))\n",
        "        \n",
        "print(l1)"
      ],
      "execution_count": null,
      "outputs": [
        {
          "output_type": "stream",
          "text": [
            "[False, True, False, False]\n"
          ],
          "name": "stdout"
        }
      ]
    },
    {
      "cell_type": "markdown",
      "metadata": {
        "id": "V7F2PukzmuIR"
      },
      "source": [
        "## reduce()"
      ]
    },
    {
      "cell_type": "code",
      "metadata": {
        "id": "vHWzhwiimuIR"
      },
      "source": [
        "def concat(x,y):\n",
        "    print( f'{x} + {y} = {x+y}')\n",
        "    return x + y"
      ],
      "execution_count": null,
      "outputs": []
    },
    {
      "cell_type": "code",
      "metadata": {
        "id": "GZcWaajamuIR",
        "colab": {
          "base_uri": "https://localhost:8080/"
        },
        "outputId": "2c1322ea-e343-4ae4-cc48-1acad32175c7"
      },
      "source": [
        "from functools import reduce\n",
        "print(reduce(lambda i,j: concat(i,j), x))"
      ],
      "execution_count": null,
      "outputs": [
        {
          "output_type": "stream",
          "text": [
            "Python + is = Pythonis\n",
            "Pythonis + really = Pythonisreally\n",
            "Pythonisreally + conveniant = Pythonisreallyconveniant\n",
            "Pythonisreallyconveniant\n"
          ],
          "name": "stdout"
        }
      ]
    },
    {
      "cell_type": "code",
      "metadata": {
        "id": "ARo_EVKPmuIR",
        "colab": {
          "base_uri": "https://localhost:8080/"
        },
        "outputId": "80058ef0-e24c-4921-e346-dc8d5cae9807"
      },
      "source": [
        "print(reduce(lambda i,j: concat(i,j), range(10)))"
      ],
      "execution_count": null,
      "outputs": [
        {
          "output_type": "stream",
          "text": [
            "0 + 1 = 1\n",
            "1 + 2 = 3\n",
            "3 + 3 = 6\n",
            "6 + 4 = 10\n",
            "10 + 5 = 15\n",
            "15 + 6 = 21\n",
            "21 + 7 = 28\n",
            "28 + 8 = 36\n",
            "36 + 9 = 45\n",
            "45\n"
          ],
          "name": "stdout"
        }
      ]
    },
    {
      "cell_type": "markdown",
      "metadata": {
        "id": "Fl0xeq7smuIS"
      },
      "source": [
        "## PySpark"
      ]
    },
    {
      "cell_type": "code",
      "metadata": {
        "id": "BGMo4gs2yfor"
      },
      "source": [
        "sc.stop()"
      ],
      "execution_count": null,
      "outputs": []
    },
    {
      "cell_type": "code",
      "metadata": {
        "id": "J7wBSYSKmuIS",
        "colab": {
          "base_uri": "https://localhost:8080/",
          "height": 36
        },
        "outputId": "155f7ec7-b495-4ae1-f87c-97da67de250f"
      },
      "source": [
        "import os\n",
        "import sys\n",
        "import pyspark\n",
        "os.environ['PYSPARK_PYTHON'] = sys.executable\n",
        "os.environ['PYSPARK_DRIVER_PYTHON'] = sys.executable\n",
        "sc = pyspark.SparkContext('local[*]')\n",
        "os.getcwd()"
      ],
      "execution_count": null,
      "outputs": [
        {
          "output_type": "execute_result",
          "data": {
            "application/vnd.google.colaboratory.intrinsic+json": {
              "type": "string"
            },
            "text/plain": [
              "'/content'"
            ]
          },
          "metadata": {
            "tags": []
          },
          "execution_count": 18
        }
      ]
    },
    {
      "cell_type": "code",
      "metadata": {
        "id": "1-ciCnK0muIS",
        "colab": {
          "base_uri": "https://localhost:8080/"
        },
        "outputId": "e58efec7-5940-43c7-aca3-e1bf19e5cb86"
      },
      "source": [
        "txt = sc.textFile('/content/bab.txt')\n",
        "print(txt.count())\n",
        "\n",
        "python_lines = txt.filter(lambda line: 'spark' in line.lower())\n",
        "print(python_lines.count())"
      ],
      "execution_count": null,
      "outputs": [
        {
          "output_type": "stream",
          "text": [
            "1\n",
            "0\n"
          ],
          "name": "stdout"
        }
      ]
    },
    {
      "cell_type": "code",
      "metadata": {
        "id": "n_2yrDfsmuIS"
      },
      "source": [
        "sc.stop()"
      ],
      "execution_count": null,
      "outputs": []
    },
    {
      "cell_type": "markdown",
      "metadata": {
        "id": "we_HxLjsmuIT"
      },
      "source": [
        "## RDD Resilient Distributed Dataset"
      ]
    },
    {
      "cell_type": "code",
      "metadata": {
        "id": "TNWzUX75muIT"
      },
      "source": [
        "sc = pyspark.SparkContext('local[*]')\n",
        "\n",
        "words = sc.parallelize(['scala', 'mahout', 'solaris', 'vertica', 'reddis', 'hadoop', 'lunaris'])\n",
        "\n",
        "words.count()\n",
        "\n",
        "words.collect()\n",
        "\n",
        "def test(x):\n",
        "    print(x)\n",
        "\n",
        "test_result = words.foreach(test)\n",
        "sc.stop()\n"
      ],
      "execution_count": null,
      "outputs": []
    },
    {
      "cell_type": "code",
      "metadata": {
        "id": "N-TfdxUsmuIT"
      },
      "source": [
        "sc = pyspark.SparkContext('local[*]', 'cache check')\n",
        "\n",
        "words = sc.parallelize(['scala', 'mahout', 'solaris', 'vertica', 'reddis', 'hadoop', 'lunaris'])"
      ],
      "execution_count": null,
      "outputs": []
    },
    {
      "cell_type": "code",
      "metadata": {
        "id": "iQP5PWk5muIT",
        "colab": {
          "base_uri": "https://localhost:8080/"
        },
        "outputId": "64d593cf-c950-4c3c-a95b-7133ce547879"
      },
      "source": [
        "words.persist().is_cached"
      ],
      "execution_count": null,
      "outputs": [
        {
          "output_type": "execute_result",
          "data": {
            "text/plain": [
              "True"
            ]
          },
          "metadata": {
            "tags": []
          },
          "execution_count": 24
        }
      ]
    },
    {
      "cell_type": "code",
      "metadata": {
        "id": "1H_ybt5SmuIT",
        "colab": {
          "base_uri": "https://localhost:8080/"
        },
        "outputId": "a91048df-9690-4bed-a3b5-d61a39a854e0"
      },
      "source": [
        "words.cache()"
      ],
      "execution_count": null,
      "outputs": [
        {
          "output_type": "execute_result",
          "data": {
            "text/plain": [
              "ParallelCollectionRDD[0] at readRDDFromFile at PythonRDD.scala:274"
            ]
          },
          "metadata": {
            "tags": []
          },
          "execution_count": 25
        }
      ]
    },
    {
      "cell_type": "markdown",
      "metadata": {
        "id": "8Ev6G1C0muIU"
      },
      "source": [
        "## Shared Variables\n",
        "\n",
        "* Broadcast\n",
        "* Accumulator"
      ]
    },
    {
      "cell_type": "code",
      "metadata": {
        "id": "aCpFCJRImuIU",
        "colab": {
          "base_uri": "https://localhost:8080/"
        },
        "outputId": "51f5d641-c02b-4513-a405-67edb2b98a10"
      },
      "source": [
        "words_2 = sc.broadcast(['scala', 'mahout', 'solaris', 'vertica', 'reddis', 'hadoop', 'lunaris'])\n",
        "data = words_2.value\n",
        "print(f'Stored data is {data}')"
      ],
      "execution_count": null,
      "outputs": [
        {
          "output_type": "stream",
          "text": [
            "Stored data is ['scala', 'mahout', 'solaris', 'vertica', 'reddis', 'hadoop', 'lunaris']\n"
          ],
          "name": "stdout"
        }
      ]
    },
    {
      "cell_type": "code",
      "metadata": {
        "id": "c9i-nft3muIU",
        "colab": {
          "base_uri": "https://localhost:8080/",
          "height": 36
        },
        "outputId": "30f8023d-f109-4208-8d36-711183770bde"
      },
      "source": [
        "words_2.value[2]"
      ],
      "execution_count": null,
      "outputs": [
        {
          "output_type": "execute_result",
          "data": {
            "application/vnd.google.colaboratory.intrinsic+json": {
              "type": "string"
            },
            "text/plain": [
              "'solaris'"
            ]
          },
          "metadata": {
            "tags": []
          },
          "execution_count": 27
        }
      ]
    },
    {
      "cell_type": "code",
      "metadata": {
        "id": "nLgQejwKmuIU",
        "colab": {
          "base_uri": "https://localhost:8080/"
        },
        "outputId": "a889c8d3-b8f7-4d23-cbcb-aeed308d4f41"
      },
      "source": [
        "y = sc.accumulator(100)\n",
        "def f(x):\n",
        "    global y\n",
        "    y+=x\n",
        "    \n",
        "rdd = sc.parallelize([10,20,30,40,50])\n",
        "rdd.foreach(f)\n",
        "\n",
        "final = y.value\n",
        "print(final)"
      ],
      "execution_count": null,
      "outputs": [
        {
          "output_type": "stream",
          "text": [
            "250\n"
          ],
          "name": "stdout"
        }
      ]
    },
    {
      "cell_type": "code",
      "metadata": {
        "id": "wWx22ZUzmuIU"
      },
      "source": [
        "sc.stop()"
      ],
      "execution_count": null,
      "outputs": []
    },
    {
      "cell_type": "markdown",
      "metadata": {
        "id": "OX10mLeKmuIV"
      },
      "source": [
        "## Spark mllib\n",
        "\n",
        "* classification\n",
        "* regression\n",
        "* clustering\n",
        "* linalg\n",
        "* recommendation\n",
        "* fpm"
      ]
    },
    {
      "cell_type": "code",
      "metadata": {
        "id": "-PJOnOodAbxB"
      },
      "source": [
        ""
      ],
      "execution_count": null,
      "outputs": []
    }
  ]
}